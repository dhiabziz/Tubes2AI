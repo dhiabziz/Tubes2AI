{
 "cells": [
  {
   "cell_type": "markdown",
   "metadata": {
    "id": "uR1JW69eLfG_"
   },
   "source": [
    "# IF3170 Artificial Intelligence | Tugas Besar 2\n",
    "\n",
    "This notebook serves as a template for the assignment. Please create a copy of this notebook to complete your work. You can add more code blocks, markdown blocks, or new sections if needed.\n"
   ]
  },
  {
   "cell_type": "markdown",
   "metadata": {
    "id": "ucbaI5rBLtjJ"
   },
   "source": [
    "Group Number: 06\n",
    "\n",
    "Group Members:\n",
    "- Yusuf Ardian Sandi (13522015)\n",
    "- Dhidit Abdi Aziz (13522040)\n",
    "- Sa'ad Abdul Hakim (13522092)\n",
    "- Rifki V. H. (13522120)"
   ]
  },
  {
   "cell_type": "markdown",
   "metadata": {
    "id": "GwzsfETHLfHA"
   },
   "source": [
    "## Import Libraries"
   ]
  },
  {
   "cell_type": "code",
   "execution_count": 55,
   "metadata": {
    "id": "jZJU5W_4LfHB"
   },
   "outputs": [],
   "source": [
    "import pandas as pd\n",
    "import numpy as np\n",
    "import matplotlib.pyplot as plt\n",
    "import seaborn as sn\n",
    "from IPython.display import display, Markdown\n",
    "from scipy.stats import chi2_contingency, f_oneway\n",
    "from sklearn.ensemble import RandomForestRegressor\n",
    "from sklearn.experimental import enable_iterative_imputer\n",
    "from sklearn.impute import IterativeImputer\n",
    "from sklearn.preprocessing import OneHotEncoder, StandardScaler, LabelEncoder, MinMaxScaler\n",
    "\n",
    "\n",
    "# Import other libraries if needed"
   ]
  },
  {
   "cell_type": "markdown",
   "metadata": {
    "id": "OKbjLIdYLfHC"
   },
   "source": [
    "## Import Dataset"
   ]
  },
  {
   "cell_type": "code",
   "execution_count": null,
   "metadata": {},
   "outputs": [],
   "source": [
    "# Example of reading a csv file from a gdrive link\n",
    "# Take the file id from the gdrive file url\n",
    "# https://drive.google.com/file/d/1ZUtiaty9RPXhpz5F2Sy3dFPHF4YIt5iU/view?usp=sharing => The file id is 1ZUtiaty9RPXhpz5F2Sy3dFPHF4YIt5iU\n",
    "# and then put it in this format:\n",
    "# https://drive.google.com/uc?id={file_id}\n",
    "# Don't forget to change the access to public\n",
    "# df = pd.read_csv('https://drive.google.com/uc?id=1ZUtiaty9RPXhpz5F2Sy3dFPHF4YIt5iU')\n",
    "# df.head()\n",
    "\n",
    "# Reading metadata\n",
    "markdown_content = \"### Metadata\\n\"\n",
    "# display(Markdown(markdown_content))\n",
    "# df_metadata = pd.read_csv('https://drive.google.com/uc?id=1gcHRql5AA87oOJouZ2z56d5K6nZpfRos')\n",
    "df_metadata = pd.read_csv('../datasets/metadata.csv')\n",
    "pd.set_option('display.max_colwidth', None)\n",
    "display(df_metadata)\n",
    "\n",
    "# Write the metadata to metadata.csv\n",
    "# df_metadata.to_csv('../datasets/metadata.csv', index=False)\n"
   ]
  },
  {
   "cell_type": "code",
   "execution_count": null,
   "metadata": {
    "id": "-IWFJ-gdLfHD"
   },
   "outputs": [],
   "source": [
    "# List of links for train_dataset\n",
    "# additional_features_train.csv = https://drive.google.com/file/d/1MUHE2WwBPBUFm0G0lgCsvTBMJWWkoz13/view?usp=sharing\n",
    "# basic_features_train.csv = https://drive.google.com/file/d/1zv9UMwhuBjpy6x1lrtXkhhi2UamBuxpS/view?usp=sharing\n",
    "# content_features_train.csv = https://drive.google.com/file/d/1XNKxhf_DO_EMgj2c-D5vKRK0aWekPzn_/view?usp=sharing\n",
    "# flow_features_train.csv = https://drive.google.com/file/d/1p7u1eY2fq_cWMvASLYdG__Uuv1JRuwa_/view?usp=sharing\n",
    "# (target features) labels_train.csv = https://drive.google.com/file/d/1OL9iPj11nGyFg3HxRL0AC2iGIi1EO_lx/view?usp=sharing\n",
    "# time_features_train = https://drive.google.com/file/d/18_Yxf4N2JW1iAvUJmQC7YxHAqtbF4B_4/view?usp=sharing\n",
    "# (metadata) UNSW-NB15_features-modified.csv = https://drive.google.com/file/d/1gcHRql5AA87oOJouZ2z56d5K6nZpfRos/view?usp=sharing\n",
    "\n",
    "# df_additional = pd.read_csv('../datasets/train_dataset/additional_features_train.csv')\n",
    "# df_basic = pd.read_csv('../datasets/train_dataset/basic_features_train.csv')\n",
    "# df_content = pd.read_csv('../datasets/train_dataset/content_features_train.csv')\n",
    "# df_flow = pd.read_csv('../datasets/train_dataset/flow_features_train.csv')\n",
    "# df_labels = pd.read_csv('../datasets/train_dataset/labels_train.csv')\n",
    "# df_time = pd.read_csv('../datasets/train_dataset/time_features_train.csv')\n",
    "\n",
    "# df_train = pd.merge(df_additional, df_basic, on='id')\n",
    "# df_train = pd.merge(df_train, df_content, on='id')\n",
    "# df_train = pd.merge(df_train, df_flow, on='id')\n",
    "# df_train = pd.merge(df_train, df_labels, on='id')\n",
    "# df_train = pd.merge(df_train, df_time, on='id')\n",
    "\n",
    "# Drop label feature (QnA No two)\n",
    "# df_train = df_train.drop(columns=['label'])\n",
    "\n",
    "# Write df_train to csv\n",
    "# df_train.to_csv('../datasets/train_dataset.csv', index=False)\n",
    "\n",
    "df_train = pd.read_csv('../datasets/train_dataset.csv')\n",
    "\n",
    "markdown_content = \"#### Train Dataset\\n\"\n",
    "display(Markdown(markdown_content))\n",
    "display(df_train.head())\n",
    "markdown_content = \"Row Size: \" + str(df_train.shape[0]) + \"\\n\"\n",
    "markdown_content += \"Column Size: \" + str(df_train.shape[1]) + \"\\n\"\n",
    "display(Markdown(markdown_content))\n"
   ]
  },
  {
   "cell_type": "code",
   "execution_count": null,
   "metadata": {},
   "outputs": [],
   "source": [
    "# List of links for test_dataset\n",
    "# additional_features_test.csv = https://drive.google.com/file/d/1p2m35E6ZfN_6ei-8LU0kbuRJuJ2m0Pwx/view?usp=sharing\n",
    "# basic_features_test.csv = https://drive.google.com/file/d/18lWw3xWS2EmK6crxqZFTzWd0VmZkQTzt/view?usp=sharing\n",
    "# content_features_test.csv = https://drive.google.com/file/d/1fRSZ5e-5SAg4d87smgsC4TT_OhBGi6HL/view?usp=sharing\n",
    "# flow_features_test.csv = https://drive.google.com/file/d/1hUzzH8D_KyHL5HIx_9zHEZOWCkKLW_dW/view?usp=sharing\n",
    "# (target features) labels_test.csv = none\n",
    "# time_features_test.csv = https://drive.google.com/file/d/1S14SoGzgR8TYvV0EVWszTUoDAJqg-Ppo/view?usp=sharing\n",
    "# (metadata) UNSW-NB15_features-modified.csv = https://drive.google.com/file/d/1qUWn06ET9vXBojumNI1IMKSAIuSwfaD2/view?usp=sharing\n",
    "\n",
    "# df_additional = pd.read_csv('../datasets/test_dataset/additional_features_test.csv')\n",
    "# df_basic = pd.read_csv('../datasets/test_dataset/basic_features_test.csv')\n",
    "# df_content = pd.read_csv('../datasets/test_dataset/content_features_test.csv')\n",
    "# df_flow = pd.read_csv('../datasets/test_dataset/flow_features_test.csv')\n",
    "# df_time = pd.read_csv('../datasets/test_dataset/time_features_test.csv')\n",
    "\n",
    "# df_test = pd.merge(df_additional, df_basic, on='id')\n",
    "# df_test = pd.merge(df_test, df_content, on='id')\n",
    "# df_test = pd.merge(df_test, df_flow, on='id')\n",
    "# df_test = pd.merge(df_test, df_time, on='id')\n",
    "\n",
    "# Write df_test to csv\n",
    "# df_test.to_csv('../datasets/test_dataset.csv', index=False)\n",
    "\n",
    "df_test = pd.read_csv('../datasets/test_dataset.csv')\n",
    "\n",
    "markdown_content = \"#### Test Dataset\\n\"\n",
    "display(Markdown(markdown_content))\n",
    "display(df_test.head())\n",
    "markdown_content = \"Row Size: \" + str(df_test.shape[0]) + \"\\n\"\n",
    "markdown_content += \"Column Size: \" + str(df_test.shape[1]) + \"\\n\"\n",
    "display(Markdown(markdown_content))"
   ]
  },
  {
   "cell_type": "markdown",
   "metadata": {
    "id": "YdSor5sdIYGs"
   },
   "source": [
    "# Exploratory Data Analysis (Optional)\n",
    "\n",
    "Exploratory Data Analysis (EDA) is a crucial step in the data analysis process that involves examining and visualizing data sets to uncover patterns, trends, anomalies, and insights. It is the first step before applying more advanced statistical and machine learning techniques. EDA helps you to gain a deep understanding of the data you are working with, allowing you to make informed decisions and formulate hypotheses for further analysis."
   ]
  },
  {
   "cell_type": "code",
   "execution_count": null,
   "metadata": {
    "id": "bGiGPVYNIoWk"
   },
   "outputs": [],
   "source": [
    "# Write your code here\n",
    "\n",
    "# list of binary features\n",
    "binary_features = ['is_sm_ips_ports', 'is_ftp_login']\n",
    "\n",
    "# list of categorical \n",
    "categorical_features = df_train.select_dtypes(include=['object']).columns.tolist()\n",
    "# Filter out binary features from categorical features\n",
    "for feature in binary_features:\n",
    "    if feature in categorical_features:\n",
    "        categorical_features.remove(feature)\n",
    "\n",
    "# list of numerical features\n",
    "numerical_features = df_train.select_dtypes(include=['int64', 'float64']).columns.tolist()\n",
    "# Filter out binary features from numerical features\n",
    "for feature in binary_features:\n",
    "    if feature in numerical_features:\n",
    "        numerical_features.remove(feature)\n",
    "numerical_features.remove('id')\n",
    "\n",
    "markdown_content = \"### Total Features\\n\"\n",
    "markdown_content += f\"* Total features (without id): {len(categorical_features) + len(numerical_features) + len(binary_features)}\\n\"\n",
    "markdown_content += f\"* Total categorical features: {len(categorical_features)}\\n\"\n",
    "markdown_content += f\"* Total numerical features: {len(numerical_features)}\\n\"\n",
    "markdown_content += f\"* Total binary features: {len(binary_features)}\\n\"\n",
    "markdown_content += \"\\n### Categorical Features\\n\"\n",
    "markdown_content += \"\\n\".join([f\"* {feature}\" for feature in categorical_features])\n",
    "markdown_content += \"\\n\\n### Numerical Features\\n\"\n",
    "markdown_content += \"\\n\".join([f\"* {feature}\" for feature in numerical_features])\n",
    "markdown_content += \"\\n\\n### Binary Features\\n\"\n",
    "markdown_content += \"\\n\".join([f\"* {feature}\" for feature in binary_features])\n",
    "\n",
    "display(Markdown(markdown_content))"
   ]
  },
  {
   "cell_type": "code",
   "execution_count": null,
   "metadata": {},
   "outputs": [],
   "source": [
    "def generate_categorical_summary(data, categorical_features):\n",
    "    \"\"\"\n",
    "    Generate markdown summary for categorical features.\n",
    "    \"\"\"\n",
    "    markdown_content = \"### Categorical Features Values\\n\"\n",
    "    for feature in categorical_features:\n",
    "        markdown_content += f\"\\n#### {feature}\\n\"\n",
    "        markdown_content += f\"* Unique values: {data[feature].nunique()}\\n\"\n",
    "        markdown_content += f\"* Values: {data[feature].unique()}\\n\"\n",
    "    return markdown_content\n",
    "\n",
    "def generate_numerical_summary(data, numerical_features):\n",
    "    \"\"\"\n",
    "    Generate markdown summary for numerical features.\n",
    "    \"\"\"\n",
    "    markdown_content = \"### Numerical Features Values\\n\"\n",
    "    for feature in numerical_features:\n",
    "        unique_values = data[feature].nunique()\n",
    "        markdown_content += f\"\\n#### {feature}\\n\"\n",
    "        if unique_values > 150:  # More detailed stats for high-cardinality features\n",
    "            markdown_content += f\"* Min: {data[feature].min()}\\n\"\n",
    "            markdown_content += f\"* Mean: {data[feature].mean()}\\n\"\n",
    "            markdown_content += f\"* Max: {data[feature].max()}\\n\"\n",
    "            markdown_content += f\"* STD: {data[feature].std()}\\n\"\n",
    "            markdown_content += f\"* 25%: {data[feature].quantile(0.25)}\\n\"\n",
    "            markdown_content += f\"* 50%: {data[feature].quantile(0.50)}\\n\"\n",
    "            markdown_content += f\"* 75%: {data[feature].quantile(0.75)}\\n\"\n",
    "        else:\n",
    "            markdown_content += f\"* Unique values: {unique_values}\\n\"\n",
    "            markdown_content += f\"* Values: {data[feature].unique()}\\n\"\n",
    "    return markdown_content\n",
    "\n",
    "def generate_binary_summary(data, binary_features):\n",
    "    \"\"\"\n",
    "    Generate markdown summary for binary features.\n",
    "    \"\"\"\n",
    "    markdown_content = \"### Binary Features Values\\n\"\n",
    "    for feature in binary_features:\n",
    "        markdown_content += f\"\\n#### {feature}\\n\"\n",
    "        markdown_content += f\"* Unique values: {data[feature].nunique()}\\n\"\n",
    "        markdown_content += f\"* Values: {data[feature].unique()}\\n\"\n",
    "    return markdown_content\n",
    "\n",
    "def display_feature_summaries(data, categorical_features, numerical_features, binary_features):\n",
    "    \"\"\"\n",
    "    Generate and display markdown summaries for categorical, numerical, and binary features.\n",
    "    \"\"\"\n",
    "    # Generate summaries\n",
    "    categorical_summary = generate_categorical_summary(data, categorical_features)\n",
    "    numerical_summary = generate_numerical_summary(data, numerical_features)\n",
    "    binary_summary = generate_binary_summary(data, binary_features)\n",
    "    \n",
    "    # Display all summaries\n",
    "    display(Markdown(categorical_summary))\n",
    "    display(Markdown(numerical_summary))\n",
    "    display(Markdown(binary_summary))\n",
    "\n",
    "# Call the function\n",
    "display_feature_summaries(df_train, categorical_features, numerical_features, binary_features)"
   ]
  },
  {
   "cell_type": "code",
   "execution_count": null,
   "metadata": {},
   "outputs": [],
   "source": [
    "# Code for Understanding Correlation analysis against the target feature (attack_cat)\n",
    "\n",
    "chi_square_results = []  \n",
    "\n",
    "# Display contingency table and Chi-Square test for each categorical feature with 'attack_cat'\n",
    "for feature in categorical_features + binary_features:\n",
    "    contigency_table = pd.crosstab(df_train['attack_cat'], df_train[feature])\n",
    "    markdown_content = f\"#### Contingency Table for {feature}\\n\"\n",
    "    markdown_content += contigency_table.to_markdown()\n",
    "    \n",
    "    chi2, p, dof, expected = chi2_contingency(contigency_table)\n",
    "\n",
    "    markdown_content += f\"\\n\\n**Chi-Square Test Results for {feature}**:\\n\"\n",
    "    markdown_content += f\"- Chi-Square Statistic: {chi2:.4f}\\n\"\n",
    "    markdown_content += f\"- p-value: {p:.4e}\\n\"\n",
    "    if p < 0.05:\n",
    "        markdown_content += f\"\\n**Conclusion**: {feature} is significantly associated with 'attack_cat'.\\n\"\n",
    "        chi_square_results.append((feature, chi2, p, True))\n",
    "    else:\n",
    "        markdown_content += f\"\\n**Conclusion**: {feature} is not significantly associated with 'attack_cat'.\\n\"\n",
    "        chi_square_results.append((feature, chi2, p, False))\n",
    "    \n",
    "    display(Markdown(markdown_content))\n",
    "\n",
    "# Visualize and compute correlation between numerical features and 'attack_cat'\n",
    "fig, axes = plt.subplots(nrows=len(numerical_features), ncols=1, figsize=(15, len(numerical_features) * 5))\n",
    "\n",
    "anova_results = []\n",
    "\n",
    "for i, feature in enumerate(numerical_features):\n",
    "    # Visualize with boxplot\n",
    "    sn.boxplot(x=df_train['attack_cat'], y=df_train[feature], ax=axes[i])\n",
    "    axes[i].set_title(f'Boxplot of {feature} by attack_cat')\n",
    "    axes[i].set_ylabel(feature)\n",
    "    axes[i].set_xlabel('attack_cat')\n",
    "\n",
    "    groups = [group[feature].dropna() for _, group in df_train.groupby('attack_cat')]\n",
    "    f_stat, p_value = f_oneway(*groups)\n",
    "\n",
    "    markdown_content = f\"#### ANOVA Results for {feature}\\n\"\n",
    "    markdown_content += f\"- F-Statistic: {f_stat:.4f}\\n\"\n",
    "    markdown_content += f\"- p-value: {p_value:.4e}\\n\"\n",
    "    if p_value < 0.05:\n",
    "        markdown_content += f\"\\n**  **: {feature} is significantly different across 'attack_cat' categories.\\n\"\n",
    "        anova_results.append((feature, f_stat, p_value, True))\n",
    "    else:\n",
    "        markdown_content += f\"\\n**Conclusion**: {feature} does not differ significantly across 'attack_cat' categories.\\n\"\n",
    "        anova_results.append((feature, f_stat, p_value, False))\n",
    "\n",
    "    display(Markdown(markdown_content))\n",
    "plt.tight_layout()\n",
    "plt.show()\n",
    "\n",
    "chi2_df = pd.DataFrame(chi_square_results, columns=['Feature', 'Chi-Square', 'p-value', 'Significant'])\n",
    "markdown_content = \"## Summary of Chi-Square Test Results for Categorical Features\\n\"\n",
    "markdown_content += chi2_df.to_markdown()\n",
    "\n",
    "anova_df = pd.DataFrame(anova_results, columns=['Feature', 'F-Statistic', 'p-value', 'Significant'])\n",
    "markdown_content += \"\\n\\n## Summary of ANOVA Results for Numerical Features\\n\"\n",
    "markdown_content += anova_df.to_markdown()\n",
    "\n",
    "display(Markdown(markdown_content))"
   ]
  },
  {
   "cell_type": "code",
   "execution_count": null,
   "metadata": {},
   "outputs": [],
   "source": [
    "# Untuk melihat seberapa banyak sih missing value di binary features\n",
    "# Function to plot histograms\n",
    "def plot_histograms(data, features, feature_type):\n",
    "    if not features:  # Check for empty feature list\n",
    "        print(f\"No {feature_type} features to plot.\")\n",
    "        return\n",
    "\n",
    "    num_plots = len(features)\n",
    "    num_cols = 3  # Number of columns for subplots\n",
    "    num_rows = (num_plots + num_cols - 1) // num_cols  # Calculate number of rows\n",
    "\n",
    "    fig, axes = plt.subplots(num_rows, num_cols, figsize=(15, num_rows * 5))\n",
    "    fig.suptitle(f'Histograms of {feature_type} Features', fontsize=16)\n",
    "\n",
    "    # Ensure axes is always 2D for consistency\n",
    "    axes = axes.reshape(-1) if num_rows == 1 else axes.flat\n",
    "\n",
    "    for i, feature in enumerate(features):\n",
    "        ax = axes[i]\n",
    "        if feature_type == 'Numerical':\n",
    "            sn.histplot(data[feature], ax=ax, kde=True)\n",
    "        else:\n",
    "            sn.countplot(x=feature, data=data, ax=ax)\n",
    "            ax.tick_params(axis='x', rotation=45)\n",
    "\n",
    "        ax.set_title(feature)\n",
    "        ax.set_xlabel('')  # Remove x-axis label\n",
    "\n",
    "    # Remove unused subplots\n",
    "    for i in range(num_plots, len(axes)):\n",
    "        fig.delaxes(axes[i])\n",
    "\n",
    "    plt.tight_layout(rect=[0, 0, 1, 0.96])  # Adjust layout for suptitle\n",
    "    plt.show()\n",
    "\n",
    "# Plot histograms for each feature type\n",
    "plot_histograms(df_train, binary_features, 'Binary')\n"
   ]
  },
  {
   "cell_type": "markdown",
   "metadata": {
    "id": "gvx-gT3bLfHM"
   },
   "source": [
    "# 1. Split Training Set and Validation Set\n",
    "\n",
    "Splitting the training and validation set works as an early diagnostic towards the performance of the model we train. This is done before the preprocessing steps to **avoid data leakage inbetween the sets**. If you want to use k-fold cross-validation, split the data later and do the cleaning and preprocessing separately for each split.\n",
    "\n",
    "Note: For training, you should use the data contained in the `train` folder given by the TA. The `test` data is only used for kaggle submission."
   ]
  },
  {
   "cell_type": "code",
   "execution_count": 63,
   "metadata": {
    "id": "4yWCUFFBLfHM"
   },
   "outputs": [],
   "source": [
    "# Split training set and validation set here, store into variables train_set and val_set.\n",
    "# Remember to also keep the original training set before splitting. This will come important later.\n",
    "# train_set, val_set = ..."
   ]
  },
  {
   "cell_type": "markdown",
   "metadata": {
    "id": "IC14lmo_LfHN"
   },
   "source": [
    "# 2. Data Cleaning and Preprocessing\n",
    "\n",
    "This step is the first thing to be done once a Data Scientist have grasped a general knowledge of the data. Raw data is **seldom ready for training**, therefore steps need to be taken to clean and format the data for the Machine Learning model to interpret.\n",
    "\n",
    "By performing data cleaning and preprocessing, you ensure that your dataset is ready for model training, leading to more accurate and reliable machine learning results. These steps are essential for transforming raw data into a format that machine learning algorithms can effectively learn from and make predictions.\n",
    "\n",
    "We will give some common methods for you to try, but you only have to **at least implement one method for each process**. For each step that you will do, **please explain the reason why did you do that process. Write it in a markdown cell under the code cell you wrote.**"
   ]
  },
  {
   "cell_type": "markdown",
   "metadata": {
    "id": "p95_A8hSLfHY"
   },
   "source": [
    "## A. Data Cleaning\n",
    "\n",
    "**Data cleaning** is the crucial first step in preparing your dataset for machine learning. Raw data collected from various sources is often messy and may contain errors, missing values, and inconsistencies. Data cleaning involves the following steps:\n",
    "\n",
    "1. **Handling Missing Data:** Identify and address missing values in the dataset. This can include imputing missing values, removing rows or columns with excessive missing data, or using more advanced techniques like interpolation.\n",
    "\n",
    "2. **Dealing with Outliers:** Identify and handle outliers, which are data points significantly different from the rest of the dataset. Outliers can be removed or transformed to improve model performance.\n",
    "\n",
    "3. **Data Validation:** Check for data integrity and consistency. Ensure that data types are correct, categorical variables have consistent labels, and numerical values fall within expected ranges.\n",
    "\n",
    "4. **Removing Duplicates:** Identify and remove duplicate rows, as they can skew the model's training process and evaluation metrics.\n",
    "\n",
    "5. **Feature Engineering**: Create new features or modify existing ones to extract relevant information. This step can involve scaling, normalizing, or encoding features for better model interpretability."
   ]
  },
  {
   "cell_type": "markdown",
   "metadata": {
    "id": "_wruGao9LfHZ"
   },
   "source": [
    "### I. Handling Missing Data\n",
    "\n",
    "Missing data can adversely affect the performance and accuracy of machine learning models. There are several strategies to handle missing data in machine learning:\n",
    "\n",
    "1. **Data Imputation:**\n",
    "\n",
    "    a. **Mean, Median, or Mode Imputation:** For numerical features, you can replace missing values with the mean, median, or mode of the non-missing values in the same feature. This method is simple and often effective when data is missing at random.\n",
    "\n",
    "    b. **Constant Value Imputation:** You can replace missing values with a predefined constant value (e.g., 0) if it makes sense for your dataset and problem.\n",
    "\n",
    "    c. **Imputation Using Predictive Models:** More advanced techniques involve using predictive models to estimate missing values. For example, you can train a regression model to predict missing numerical values or a classification model to predict missing categorical values.\n",
    "\n",
    "2. **Deletion of Missing Data:**\n",
    "\n",
    "    a. **Listwise Deletion:** In cases where the amount of missing data is relatively small, you can simply remove rows with missing values from your dataset. However, this approach can lead to a loss of valuable information.\n",
    "\n",
    "    b. **Column (Feature) Deletion:** If a feature has a large number of missing values and is not critical for your analysis, you can consider removing that feature altogether.\n",
    "\n",
    "3. **Domain-Specific Strategies:**\n",
    "\n",
    "    a. **Domain Knowledge:** In some cases, domain knowledge can guide the imputation process. For example, if you know that missing values are related to a specific condition, you can impute them accordingly.\n",
    "\n",
    "4. **Imputation Libraries:**\n",
    "\n",
    "    a. **Scikit-Learn:** Scikit-Learn provides a `SimpleImputer` class that can handle basic imputation strategies like mean, median, and mode imputation.\n",
    "\n",
    "    b. **Fancyimpute:** Fancyimpute is a Python library that offers more advanced imputation techniques, including matrix factorization, k-nearest neighbors, and deep learning-based methods.\n",
    "\n",
    "The choice of imputation method should be guided by the nature of your data, the amount of missing data, the problem you are trying to solve, and the assumptions you are willing to make."
   ]
  },
  {
   "cell_type": "code",
   "execution_count": null,
   "metadata": {
    "id": "ucZNfCkiLfHZ"
   },
   "outputs": [],
   "source": [
    "\n",
    "def fill_missing_values(data):\n",
    "  for feature in binary_features:\n",
    "    # Isi NA dengan -1 terlebih dahulu\n",
    "    data[feature] = df_train[feature].fillna(-1)\n",
    "    # Konversi nilai menjadi integer\n",
    "    data[feature] = df_train[feature].astype(int)\n",
    "\n",
    "  data[categorical_features] = data[categorical_features].fillna(\"Unknown\")\n",
    "\n",
    "  for feature in numerical_features:\n",
    "    # 1. Akhirnya diisi median AWKOAWKOAW\n",
    "    data[feature] = data[feature].fillna(data[feature].median())\n",
    "\n",
    "    # 2. Metode Iterative Imputer ga kelar kelar 🗿🙏🙏\n",
    "      # imputer = IterativeImputer(max_iter=10, random_state=42)\n",
    "      # data[numerical_features] = imputer.fit_transform(data[numerical_features])\n",
    "\n",
    "    # 3. Metode Randomforest ga kelar kelar 🗿🙏🙏\n",
    "      # train_data = data[data[col].notna()]\n",
    "      # predict_data = data[data[col].isna()]\n",
    "\n",
    "      # X_train = train_data.drop(columns=[col])\n",
    "      # y_train = train_data[col]\n",
    "      # X_train = pd.get_dummies(X_train, drop_first=True)\n",
    "\n",
    "      # X_predict = predict_data.drop(columns=[col])\n",
    "      # X_predict = pd.get_dummies(X_predict, drop_first=True)\n",
    "      # X_predict = X_predict.reindex(columns=X_train.columns, fill_value=0)\n",
    "\n",
    "      # model = RandomForestRegressor(random_state=42, n_estimators=100)\n",
    "      # model.fit(X_train, y_train)\n",
    "      # data.loc[data[col].isna(), col] = model.predict(X_predict)\n",
    "\n",
    "\n",
    "  return data\n",
    "\n",
    "df_train = fill_missing_values(df_train)\n",
    "\n",
    "# Diprint lagi biar keliatan before afternya\n",
    "display_feature_summaries(df_train, categorical_features, numerical_features, binary_features)"
   ]
  },
  {
   "cell_type": "markdown",
   "metadata": {
    "id": "zgrSMcK75VY_"
   },
   "source": [
    "### II. Dealing with Outliers\n",
    "\n",
    "Outliers are data points that significantly differ from the majority of the data. They can be unusually high or low values that do not fit the pattern of the rest of the dataset. Outliers can significantly impact model performance, so it is important to handle them properly.\n",
    "\n",
    "Some methods to handle outliers:\n",
    "1. **Imputation**: Replace with mean, median, or a boundary value.\n",
    "2. **Clipping**: Cap values to upper and lower limits.\n",
    "3. **Transformation**: Use log, square root, or power transformations to reduce their influence.\n",
    "4. **Model-Based**: Use algorithms robust to outliers (e.g., tree-based models, Huber regression)."
   ]
  },
  {
   "cell_type": "code",
   "execution_count": null,
   "metadata": {
    "id": "CgbZ6Lv17Uf0"
   },
   "outputs": [],
   "source": [
    "def transform_outliers(data, numerical_features):\n",
    "    #1. Outlier di numerik di-cap ke batas atas dan bawah quartil\n",
    "    for feature in numerical_features:\n",
    "        Q1 = data[feature].quantile(0.25)\n",
    "        Q3 = data[feature].quantile(0.75)\n",
    "\n",
    "        IQR = Q3 - Q1\n",
    "\n",
    "        data[feature] = data[feature].apply(lambda x: max(x, Q1 - 1.5 * IQR) if x < (Q1 - 1.5 * IQR) else x)\n",
    "        data[feature] = data[feature].apply(lambda x: min(x, Q3 + 1.5 * IQR) if x > (Q3 + 1.5 * IQR) else x)\n",
    "\n",
    "    #2. Untuk kategorikal udah dicek secara EDA (kasat mata) tu aman\n",
    "\n",
    "    #3. Untuk binary coy ada yg eror\n",
    "    #Katanya is_ftp_login binary tapi kok ada juga yg nilainya 2 dan 4?\n",
    "    data['is_ftp_login'] = data['is_ftp_login'].apply(lambda x: x if x in [0, 1] else -1)\n",
    "    return data\n",
    "\n",
    "df_train = transform_outliers(df_train, numerical_features)\n",
    "\n",
    "\n",
    "#Print lagi biar keliatan before afternya\n",
    "display_feature_summaries(df_train, categorical_features, numerical_features, binary_features)"
   ]
  },
  {
   "cell_type": "markdown",
   "metadata": {
    "id": "aO0ZEZ-s6Lu-"
   },
   "source": [
    "### III. Remove Duplicates\n",
    "Handling duplicate values is crucial because they can compromise data integrity, leading to inaccurate analysis and insights. Duplicate entries can bias machine learning models, causing overfitting and reducing their ability to generalize to new data. They also inflate the dataset size unnecessarily, increasing computational costs and processing times. Additionally, duplicates can distort statistical measures and lead to inconsistencies, ultimately affecting the reliability of data-driven decisions and reporting. Ensuring data quality by removing duplicates is essential for accurate, efficient, and consistent analysis."
   ]
  },
  {
   "cell_type": "code",
   "execution_count": null,
   "metadata": {
    "id": "BHCkkZ-v7iF8"
   },
   "outputs": [],
   "source": [
    "# Write your code here\n",
    "\n",
    "duplicate_count = df_train.duplicated().sum()\n",
    "markdown_content = \"### Duplicates\\n\"\n",
    "markdown_content += f\"* Total duplicates: {duplicate_count}\\n\"\n",
    "display(Markdown(markdown_content))\n",
    "\n",
    "# View the duplicated rows\n",
    "if duplicate_count > 0:\n",
    "    duplicates = df_train[df_train.duplicated(keep=False)]\n",
    "    markdown_content = \"#### Duplicate rows\\n\"\n",
    "    display(Markdown(markdown_content))\n",
    "    display(duplicates)\n",
    "\n",
    "    df_train.drop_duplicates(inplace=True)\n",
    "    markdown_content = f\"* Duplicates removed.\\n\"\n",
    "    display(Markdown(markdown_content))\n",
    "else:\n",
    "    markdown_content = f\"* No duplicates found.\\n\"\n",
    "    display(Markdown(markdown_content))"
   ]
  },
  {
   "cell_type": "markdown",
   "metadata": {
    "id": "eycPASmMLfHa"
   },
   "source": [
    "### IV. Feature Engineering\n",
    "\n",
    "**Feature engineering** involves creating new features (input variables) or transforming existing ones to improve the performance of machine learning models. Feature engineering aims to enhance the model's ability to learn patterns and make accurate predictions from the data. It's often said that \"good features make good models.\"\n",
    "\n",
    "1. **Feature Selection:** Feature engineering can involve selecting the most relevant and informative features from the dataset. Removing irrelevant or redundant features not only simplifies the model but also reduces the risk of overfitting.\n",
    "\n",
    "2. **Creating New Features:** Sometimes, the existing features may not capture the underlying patterns effectively. In such cases, engineers create new features that provide additional information. For example:\n",
    "   \n",
    "   - **Polynomial Features:** Engineers may create new features by taking the square, cube, or other higher-order terms of existing numerical features. This can help capture nonlinear relationships.\n",
    "   \n",
    "   - **Interaction Features:** Interaction features are created by combining two or more existing features. For example, if you have features \"length\" and \"width,\" you can create an \"area\" feature by multiplying them.\n",
    "\n",
    "3. **Binning or Discretization:** Continuous numerical features can be divided into bins or categories. For instance, age values can be grouped into bins like \"child,\" \"adult,\" and \"senior.\"\n",
    "\n",
    "4. **Domain-Specific Feature Engineering:** Depending on the domain and problem, engineers may create domain-specific features. For example, in fraud detection, features related to transaction history and user behavior may be engineered to identify anomalies.\n",
    "\n",
    "Feature engineering is both a creative and iterative process. It requires a deep understanding of the data, domain knowledge, and experimentation to determine which features will enhance the model's predictive power."
   ]
  },
  {
   "cell_type": "code",
   "execution_count": 67,
   "metadata": {
    "id": "UoXEV6wkLfHa"
   },
   "outputs": [],
   "source": [
    "# 3. Data Binning\n",
    "def bin_features(df):\n",
    "    # Binning Dur udah pasti maksimalnya 60 detik\n",
    "    df['dur_bins'] = pd.cut(df['dur'], bins=[0, 20, 40, 60], \n",
    "                            labels=['short', 'medium', 'long'], include_lowest=True)\n",
    "\n",
    "    # Binning'sload' and 'dload' pake quantiles aja\n",
    "    # Distribusi datanya lumayan oke\n",
    "    df['sload_bins'] = pd.qcut(df['sload'], q=4, labels=['very_low', 'low', 'high', 'very_high'])\n",
    "    df['dload_bins'] = pd.qcut(df['dload'], q=4, labels=['very_low', 'low', 'high', 'very_high'])\n",
    "\n",
    "    # Binning sjit' and 'djit' jomplang banget banyak nolnya jadi dibagi dua dari rata-rata aja\n",
    "    # Kalo dibagi dua dari modus/median bakal rada bias (masa yg 0 juga masuk ke high?)\n",
    "    df['sjit_bins'] = pd.cut(df['sjit'], bins=[-float('inf'), df['sjit'].mean(), float('inf')], \n",
    "                             labels=['low', 'high'])\n",
    "    df['djit_bins'] = pd.cut(df['djit'], bins=[-float('inf'), df['djit'].mean(), float('inf')], \n",
    "                             labels=['low', 'high'])\n",
    "\n",
    "    # Binning for 'sinpkt' and 'dinpkt' pake quartiles\n",
    "    df['sinpkt_bins'] = pd.qcut(df['sinpkt'], q=4, labels=['very_low', 'low', 'high', 'very_high'])\n",
    "    df['dinpkt_bins'] = pd.qcut(df['dinpkt'], q=4, labels=['very_low', 'low', 'high', 'very_high'])\n",
    "\n",
    "    # Binning for 'tcprtt', 'synack', 'ackdat' bikin custom aja soalnya distribusinya unik\n",
    "    df['tcprtt_bins'] = pd.cut(df['tcprtt'], bins=[0, 0.1, 0.5, float('inf')], \n",
    "                               labels=['very_short', 'short', 'long'])\n",
    "    df['synack_bins'] = pd.cut(df['synack'], bins=[0, 0.05, 0.2, float('inf')], \n",
    "                               labels=['very_short', 'short', 'long'])\n",
    "    df['ackdat_bins'] = pd.cut(df['ackdat'], bins=[0, 0.05, 0.2, float('inf')], \n",
    "                               labels=['very_short', 'short', 'long'])\n",
    "\n",
    "    # Binning for 'smean' and 'dmean'pake quartiles\n",
    "    # Sebab distribusinya lumayan oke\n",
    "    df['smean_bins'] = pd.qcut(df['smean'], q=4, labels=['very_low', 'low', 'high', 'very_high'])\n",
    "    df['dmean_bins'] = pd.qcut(df['dmean'], q=4, labels=['very_low', 'low', 'high', 'very_high'])\n",
    "\n",
    "    return df\n",
    "\n",
    "# Apply the function to your dataset\n",
    "df_train = bin_features(df_train)\n",
    "\n"
   ]
  },
  {
   "cell_type": "markdown",
   "metadata": {
    "id": "xw11_49xLfHb"
   },
   "source": [
    "## B. Data Preprocessing\n",
    "\n",
    "**Data preprocessing** is a broader step that encompasses both data cleaning and additional transformations to make the data suitable for machine learning algorithms. Its primary goals are:\n",
    "\n",
    "1. **Feature Scaling:** Ensure that numerical features have similar scales. Common techniques include Min-Max scaling (scaling to a specific range) or standardization (mean-centered, unit variance).\n",
    "\n",
    "2. **Encoding Categorical Variables:** Machine learning models typically work with numerical data, so categorical variables need to be encoded. This can be done using one-hot encoding, label encoding, or more advanced methods like target encoding.\n",
    "\n",
    "3. **Handling Imbalanced Classes:** If dealing with imbalanced classes in a binary classification task, apply techniques such as oversampling, undersampling, or using different evaluation metrics to address class imbalance.\n",
    "\n",
    "4. **Dimensionality Reduction:** Reduce the number of features using techniques like Principal Component Analysis (PCA) or feature selection to simplify the model and potentially improve its performance.\n",
    "\n",
    "5. **Normalization:** Normalize data to achieve a standard distribution. This is particularly important for algorithms that assume normally distributed data."
   ]
  },
  {
   "cell_type": "markdown",
   "metadata": {
    "id": "rVyVnA1hLfHd"
   },
   "source": [
    "### Notes on Preprocessing processes\n",
    "\n",
    "It is advised to create functions or classes that have the same/similar type of inputs and outputs, so you can add, remove, or swap the order of the processes easily. You can implement the functions or classes by yourself\n",
    "\n",
    "or\n",
    "\n",
    "use `sklearn` library. To create a new preprocessing component in `sklearn`, implement a corresponding class that includes:\n",
    "1. Inheritance to `BaseEstimator` and `TransformerMixin`\n",
    "2. The method `fit`\n",
    "3. The method `transform`"
   ]
  },
  {
   "cell_type": "code",
   "execution_count": 68,
   "metadata": {
    "id": "WbxHt-5eKz_I"
   },
   "outputs": [],
   "source": [
    "# Example\n",
    "\n",
    "# from sklearn.base import BaseEstimator, TransformerMixin\n",
    "\n",
    "# class FeatureEncoder(BaseEstimator, TransformerMixin):\n",
    "\n",
    "#     def fit(self, X, y=None):\n",
    "\n",
    "#         # Fit the encoder here\n",
    "\n",
    "#         return self\n",
    "\n",
    "#     def transform(self, X):\n",
    "#         X_encoded = X.copy()\n",
    "\n",
    "#         # Encode the categorical variables here\n",
    "\n",
    "#         return X_encoded"
   ]
  },
  {
   "cell_type": "markdown",
   "metadata": {
    "id": "WhCgOl4xLfHb"
   },
   "source": [
    "### I. Feature Scaling\n",
    "\n",
    "**Feature scaling** is a preprocessing technique used in machine learning to standardize the range of independent variables or features of data. The primary goal of feature scaling is to ensure that all features contribute equally to the training process and that machine learning algorithms can work effectively with the data.\n",
    "\n",
    "Here are the main reasons why feature scaling is important:\n",
    "\n",
    "1. **Algorithm Sensitivity:** Many machine learning algorithms are sensitive to the scale of input features. If the scales of features are significantly different, some algorithms may perform poorly or take much longer to converge.\n",
    "\n",
    "2. **Distance-Based Algorithms:** Algorithms that rely on distances or similarities between data points, such as k-nearest neighbors (KNN) and support vector machines (SVM), can be influenced by feature scales. Features with larger scales may dominate the distance calculations.\n",
    "\n",
    "3. **Regularization:** Regularization techniques, like L1 (Lasso) and L2 (Ridge) regularization, add penalty terms based on feature coefficients. Scaling ensures that all features are treated equally in the regularization process.\n",
    "\n",
    "Common methods for feature scaling include:\n",
    "\n",
    "1. **Min-Max Scaling (Normalization):** This method scales features to a specific range, typically [0, 1]. It's done using the following formula:\n",
    "\n",
    "   $$X' = \\frac{X - X_{min}}{X_{max} - X_{min}}$$\n",
    "\n",
    "   - Here, $X$ is the original feature value, $X_{min}$ is the minimum value of the feature, and $X_{max}$ is the maximum value of the feature.  \n",
    "<br />\n",
    "<br />\n",
    "2. **Standardization (Z-score Scaling):** This method scales features to have a mean (average) of 0 and a standard deviation of 1. It's done using the following formula:\n",
    "\n",
    "   $$X' = \\frac{X - \\mu}{\\sigma}$$\n",
    "\n",
    "   - $X$ is the original feature value, $\\mu$ is the mean of the feature, and $\\sigma$ is the standard deviation of the feature.  \n",
    "<br />\n",
    "<br />\n",
    "3. **Robust Scaling:** Robust scaling is a method that scales features to the interquartile range (IQR) and is less affected by outliers. It's calculated as:\n",
    "\n",
    "   $$X' = \\frac{X - Q1}{Q3 - Q1}$$\n",
    "\n",
    "   - $X$ is the original feature value, $Q1$ is the first quartile (25th percentile), and $Q3$ is the third quartile (75th percentile) of the feature.  \n",
    "<br />\n",
    "<br />\n",
    "4. **Log Transformation:** In cases where data is highly skewed or has a heavy-tailed distribution, taking the logarithm of the feature values can help stabilize the variance and improve scaling.\n",
    "\n",
    "The choice of scaling method depends on the characteristics of your data and the requirements of your machine learning algorithm. **Min-max scaling and standardization are the most commonly used techniques and work well for many datasets.**\n",
    "\n",
    "Scaling should be applied separately to each training and test set to prevent data leakage from the test set into the training set. Additionally, **some algorithms may not require feature scaling, particularly tree-based models.**"
   ]
  },
  {
   "cell_type": "code",
   "execution_count": 69,
   "metadata": {
    "id": "COef9EbCLfHb"
   },
   "outputs": [],
   "source": [
    "# Write your code here"
   ]
  },
  {
   "cell_type": "markdown",
   "metadata": {
    "id": "f_Lh-4JwLfHc"
   },
   "source": [
    "### II. Feature Encoding\n",
    "\n",
    "**Feature encoding**, also known as **categorical encoding**, is the process of converting categorical data (non-numeric data) into a numerical format so that it can be used as input for machine learning algorithms. Most machine learning models require numerical data for training and prediction, so feature encoding is a critical step in data preprocessing.\n",
    "\n",
    "Categorical data can take various forms, including:\n",
    "\n",
    "1. **Nominal Data:** Categories with no intrinsic order, like colors or country names.  \n",
    "\n",
    "2. **Ordinal Data:** Categories with a meaningful order but not necessarily equidistant, like education levels (e.g., \"high school,\" \"bachelor's,\" \"master's\").\n",
    "\n",
    "There are several common methods for encoding categorical data:\n",
    "\n",
    "1. **Label Encoding:**\n",
    "\n",
    "   - Label encoding assigns a unique integer to each category in a feature.\n",
    "   - It's suitable for ordinal data where there's a clear order among categories.\n",
    "   - For example, if you have an \"education\" feature with values \"high school,\" \"bachelor's,\" and \"master's,\" you can encode them as 0, 1, and 2, respectively.\n",
    "<br />\n",
    "<br />\n",
    "2. **One-Hot Encoding:**\n",
    "\n",
    "   - One-hot encoding creates a binary (0 or 1) column for each category in a nominal feature.\n",
    "   - It's suitable for nominal data where there's no inherent order among categories.\n",
    "   - Each category becomes a new feature, and the presence (1) or absence (0) of a category is indicated for each row.\n",
    "<br />\n",
    "<br />\n",
    "3. **Target Encoding (Mean Encoding):**\n",
    "\n",
    "   - Target encoding replaces each category with the mean of the target variable for that category.\n",
    "   - It's often used for classification problems."
   ]
  },
  {
   "cell_type": "code",
   "execution_count": null,
   "metadata": {
    "id": "psElSUugLfHc"
   },
   "outputs": [],
   "source": [
    "# Untuk binary_features sebab udah 0,1, jadi gausah diapa-apain lagi\n",
    "def encode_binary_features(data, binary_features):\n",
    "    for feature in binary_features:\n",
    "        data[feature] = data[feature].astype(int)\n",
    "\n",
    "# Untuk kategori nominal, maka harus pake one hot\n",
    "# Kebetulan semua kategorikal di data adalah nominal\n",
    "nominal_features = ['proto', 'state', 'service']\n",
    "def encode_categorical_features(data, nominal_features):\n",
    "    one_hot_encoder = OneHotEncoder(sparse_output=False)\n",
    "    categorical_encoded = one_hot_encoder.fit_transform(data[nominal_features])\n",
    "    categorical_encoded_data = pd.DataFrame(categorical_encoded, columns=one_hot_encoder.get_feature_names_out(categorical_features))\n",
    "\n",
    "    # Masukin hasil encoding ke data asli\n",
    "    data = pd.concat([data.reset_index(drop=True), categorical_encoded_data.reset_index(drop=True)], axis=1)\n",
    "    data.drop(columns=categorical_features, inplace=True)\n",
    "\n",
    "# Target feature juga perlu di-encode supaya bisa masuk ke algoritma\n",
    "def encode_target_feature(data):\n",
    "    label_encoder = LabelEncoder()\n",
    "    data['attack_cat_encoded'] = label_encoder.fit_transform(data['attack_cat'].fillna('Unknown'))\n",
    "\n",
    "    # Drop yang asli\n",
    "    data.drop(columns=['attack_cat'], inplace=True)\n",
    "\n",
    "# Encoding\n",
    "\n",
    "encode_binary_features(df_train, binary_features)\n",
    "encode_categorical_features(df_train, nominal_features)\n",
    "encode_target_feature(df_train)\n",
    "print(\"Encoding complete!\")\n"
   ]
  },
  {
   "cell_type": "markdown",
   "metadata": {
    "id": "jKQO9wtB8Pc0"
   },
   "source": [
    "### III. Handling Imbalanced Dataset\n",
    "\n",
    "**Handling imbalanced datasets** is important because imbalanced data can lead to several issues that negatively impact the performance and reliability of machine learning models. Here are some key reasons:\n",
    "\n",
    "1. **Biased Model Performance**:\n",
    "\n",
    " - Models trained on imbalanced data tend to be biased towards the majority class, leading to poor performance on the minority class. This can result in misleading accuracy metrics.\n",
    "\n",
    "2. **Misleading Accuracy**:\n",
    "\n",
    " - High overall accuracy can be misleading in imbalanced datasets. For example, if 95% of the data belongs to one class, a model that always predicts the majority class will have 95% accuracy but will fail to identify the minority class.\n",
    "\n",
    "3. **Poor Generalization**:\n",
    "\n",
    " - Models trained on imbalanced data may not generalize well to new, unseen data, especially if the minority class is underrepresented.\n",
    "\n",
    "\n",
    "Some methods to handle imbalanced datasets:\n",
    "1. **Resampling Methods**:\n",
    "\n",
    " - Oversampling: Increase the number of instances in the minority class by duplicating or generating synthetic samples (e.g., SMOTE).\n",
    " - Undersampling: Reduce the number of instances in the majority class to balance the dataset.\n",
    "\n",
    "2. **Evaluation Metrics**:\n",
    "\n",
    " - Use appropriate evaluation metrics such as precision, recall, F1-score, ROC-AUC, and confusion matrix instead of accuracy to better assess model performance on imbalanced data.\n",
    "\n",
    "3. **Algorithmic Approaches**:\n",
    "\n",
    " - Use algorithms that are designed to handle imbalanced data, such as decision trees, random forests, or ensemble methods.\n",
    " - Adjust class weights in algorithms to give more importance to the minority class."
   ]
  },
  {
   "cell_type": "code",
   "execution_count": 105,
   "metadata": {
    "id": "u2BQd2XJ9W1i"
   },
   "outputs": [],
   "source": [
    "from imblearn.over_sampling import SMOTE\n",
    "from imblearn.under_sampling import RandomUnderSampler\n",
    "from imblearn.pipeline import Pipeline\n",
    "\n",
    "# TODO: Unfinished code\n",
    "\n",
    "# The dataset must be in numerical form before applying the resampling techniques\n",
    "\n",
    "# Write your code here\n",
    "\n",
    "# Display df_train.head for categorical_features only\n",
    "categorical_features.remove('attack_cat')\n",
    "# display(df_train[categorical_features].head())\n",
    "# display(df_train['attack_cat_encoded'].head())\n",
    "\n",
    "# Visualize the balance comparation of the target feature (attack_cat feature is categorical)\n",
    "sn.countplot(x='attack_cat_encoded', data=df_train.drop(columns=categorical_features))\n",
    "plt.title('Distribution of attack_cat')\n",
    "plt.xticks(rotation=45)\n",
    "plt.show()\n",
    "\n",
    "categorical_features.append('attack_cat_encoded')\n",
    "\n",
    "# Define the target and features\n",
    "X = df_train.drop(columns=categorical_features)\n",
    "\n",
    "# Drop categorical features from X\n",
    "# print(categorical_features)\n",
    "# X = X.drop(columns=categorical_features)\n",
    "\n",
    "y = df_train['attack_cat_encoded']\n",
    "\n",
    "# Define the undersampling and oversampling strategy\n",
    "undersample = RandomUnderSampler(sampling_strategy='majority')\n",
    "oversample = SMOTE(sampling_strategy='minority')\n",
    "\n",
    "# Create a pipeline with undersampling and oversampling\n",
    "pipeline = Pipeline(steps=[('u', undersample), ('o', oversample)])\n",
    "\n",
    "# Apply the pipeline to the data\n",
    "X_resampled, y_resampled = pipeline.fit_resample(X, y)\n",
    "\n",
    "# Combine the resampled features and target into a new DataFrame\n",
    "df_resampled = pd.concat([X_resampled, y_resampled], axis=1)\n",
    "\n",
    "# Display the new distribution of the target feature\n",
    "sn.countplot(x='attack_cat_encoded', data=df_resampled)\n",
    "plt.title('Distribution of attack_cat after Resampling')\n",
    "plt.xticks(rotation=45)\n",
    "plt.show()"
   ]
  },
  {
   "cell_type": "markdown",
   "metadata": {
    "id": "fTMSyUzf_-HQ"
   },
   "source": [
    "### IV. Data Normalization\n",
    "\n",
    "Data normalization is used to achieve a standard distribution. Without normalization, models or processes that rely on the assumption of normality may not work correctly. Normalization helps reduce the magnitude effect and ensures numerical stability during optimization."
   ]
  },
  {
   "cell_type": "code",
   "execution_count": 106,
   "metadata": {
    "id": "HLOWHftjF1JU"
   },
   "outputs": [],
   "source": [
    "# Write your code here"
   ]
  },
  {
   "cell_type": "markdown",
   "metadata": {
    "id": "MSZPZSntF3Kb"
   },
   "source": [
    "### V. Dimensionality Reduction\n",
    "\n",
    "Dimensionality reduction is a technique used in data preprocessing to reduce the number of input features (dimensions) in a dataset while retaining as much important information as possible. It is essential when dealing with high-dimensional data, where too many features can cause problems like increased computational costs, overfitting, and difficulty in visualization. Reducing dimensions simplifies the data, making it easier to analyze and improving the performance of machine learning models.\n",
    "\n",
    "One of the main approaches to dimensionality reduction is feature extraction. Feature extraction creates new, smaller sets of features that capture the essence of the original data. Common techniques include:\n",
    "\n",
    "1. **Principal Component Analysis (PCA)**: Converts correlated features into a smaller number of uncorrelated \"principal components.\"\n",
    "2. **t-SNE (t-Distributed Stochastic Neighbor Embedding)**: A visualization-focused method to project high-dimensional data into 2D or 3D spaces.\n",
    "3. **Autoencoders**: Neural networks that learn compressed representations of the data."
   ]
  },
  {
   "cell_type": "code",
   "execution_count": 107,
   "metadata": {
    "id": "5rksSMAWICY_"
   },
   "outputs": [],
   "source": [
    "# Write your code here"
   ]
  },
  {
   "cell_type": "markdown",
   "metadata": {
    "id": "-ctVzt5DLfHd"
   },
   "source": [
    "# 3. Compile Preprocessing Pipeline\n",
    "\n",
    "All of the preprocessing classes or functions defined earlier will be compiled in this step."
   ]
  },
  {
   "cell_type": "markdown",
   "metadata": {
    "id": "S_ZlncSVjJG6"
   },
   "source": [
    "If you use sklearn to create preprocessing classes, you can list your preprocessing classes in the Pipeline object sequentially, and then fit and transform your data."
   ]
  },
  {
   "cell_type": "code",
   "execution_count": 108,
   "metadata": {
    "id": "jHraoW_7LfHd"
   },
   "outputs": [],
   "source": [
    "# from sklearn.pipeline import Pipeline\n",
    "\n",
    "# # Note: You can add or delete preprocessing components from this pipeline\n",
    "\n",
    "# pipe = Pipeline([(\"imputer\", FeatureImputer()),\n",
    "#                  (\"featurecreator\", FeatureCreator()),\n",
    "#                  (\"scaler\", FeatureScaler()),\n",
    "#                  (\"encoder\", FeatureEncoder())])\n",
    "\n",
    "# train_set = pipe.fit_transform(train_set)\n",
    "# val_set = pipe.transform(val_set)"
   ]
  },
  {
   "cell_type": "code",
   "execution_count": 109,
   "metadata": {
    "id": "9s56aFFxLfHd"
   },
   "outputs": [],
   "source": [
    "# # Your code should work up until this point\n",
    "# train_set = pipe.fit_transform(train_set)\n",
    "# val_set = pipe.transform(val_set)"
   ]
  },
  {
   "cell_type": "markdown",
   "metadata": {
    "id": "SXoCqMztjhr-"
   },
   "source": [
    "or create your own here"
   ]
  },
  {
   "cell_type": "code",
   "execution_count": 110,
   "metadata": {
    "id": "7OoZ3oXEj2CW"
   },
   "outputs": [],
   "source": [
    "# Write your code here"
   ]
  },
  {
   "cell_type": "markdown",
   "metadata": {
    "id": "9A3adbZXLfHe"
   },
   "source": [
    "# 4. Modeling and Validation\n",
    "\n",
    "Modelling is the process of building your own machine learning models to solve specific problems, or in this assignment context, predicting the target feature `attack_cat`. Validation is the process of evaluating your trained model using the validation set or cross-validation method and providing some metrics that can help you decide what to do in the next iteration of development."
   ]
  },
  {
   "cell_type": "markdown",
   "metadata": {
    "id": "ZnhMNbBILfHf"
   },
   "source": [
    "## A. KNN"
   ]
  },
  {
   "cell_type": "code",
   "execution_count": 111,
   "metadata": {
    "id": "KV6ICmFmlqjk"
   },
   "outputs": [],
   "source": [
    "# Type your code here"
   ]
  },
  {
   "cell_type": "markdown",
   "metadata": {
    "id": "nW0bMzkDLfHf"
   },
   "source": [
    "## B. Naive Bayes"
   ]
  },
  {
   "cell_type": "code",
   "execution_count": 112,
   "metadata": {
    "id": "C_XwsN_-LfHg"
   },
   "outputs": [],
   "source": [
    "# Type your code here"
   ]
  },
  {
   "cell_type": "markdown",
   "metadata": {
    "id": "TLDtIkPdLfHg"
   },
   "source": [
    "## C. ID3"
   ]
  },
  {
   "cell_type": "code",
   "execution_count": 113,
   "metadata": {
    "id": "gZ6_x1LKLfHh"
   },
   "outputs": [],
   "source": [
    "# Type your code here"
   ]
  },
  {
   "cell_type": "markdown",
   "metadata": {
    "id": "LoH2u6fOLfHh"
   },
   "source": [
    "## D. Improvements (Optional)\n",
    "\n",
    "- **Visualize the model evaluation result**\n",
    "\n",
    "This will help you to understand the details more clearly about your model's performance. From the visualization, you can see clearly if your model is leaning towards a class than the others. (Hint: confusion matrix, ROC-AUC curve, etc.)\n",
    "\n",
    "- **Explore the hyperparameters of your models**\n",
    "\n",
    "Each models have their own hyperparameters. And each of the hyperparameter have different effects on the model behaviour. You can optimize the model performance by finding the good set of hyperparameters through a process called **hyperparameter tuning**. (Hint: Grid search, random search, bayesian optimization)\n",
    "\n",
    "- **Cross-validation**\n",
    "\n",
    "Cross-validation is a critical technique in machine learning and data science for evaluating and validating the performance of predictive models. It provides a more **robust** and **reliable** evaluation method compared to a hold-out (single train-test set) validation. Though, it requires more time and computing power because of how cross-validation works. (Hint: k-fold cross-validation, stratified k-fold cross-validation, etc.)"
   ]
  },
  {
   "cell_type": "code",
   "execution_count": 114,
   "metadata": {
    "id": "pg-A54yELfHh"
   },
   "outputs": [],
   "source": [
    "# Type your code here"
   ]
  },
  {
   "cell_type": "markdown",
   "metadata": {
    "id": "Li4l53DjLfHh"
   },
   "source": [
    "## E. Submission\n",
    "To predict the test set target feature and submit the results to the kaggle competition platform, do the following:\n",
    "1. Create a new pipeline instance identical to the first in Data Preprocessing\n",
    "2. With the pipeline, apply `fit_transform` to the original training set before splitting, then only apply `transform` to the test set.\n",
    "3. Retrain the model on the preprocessed training set\n",
    "4. Predict the test set\n",
    "5. Make sure the submission contains the `id` and `attack_cat` column."
   ]
  },
  {
   "cell_type": "code",
   "execution_count": 115,
   "metadata": {
    "id": "LeqnfWc-LfHi"
   },
   "outputs": [],
   "source": [
    "# Type your code here"
   ]
  },
  {
   "cell_type": "markdown",
   "metadata": {
    "id": "R-jXvKOpLfHi"
   },
   "source": [
    "# 6. Error Analysis\n",
    "\n",
    "Based on all the process you have done until the modeling and evaluation step, write an analysis to support each steps you have taken to solve this problem. Write the analysis using the markdown block. Some questions that may help you in writing the analysis:\n",
    "\n",
    "- Does my model perform better in predicting one class than the other? If so, why is that?\n",
    "- To each models I have tried, which performs the best and what could be the reason?\n",
    "- Is it better for me to impute or drop the missing data? Why?\n",
    "- Does feature scaling help improve my model performance?\n",
    "- etc..."
   ]
  },
  {
   "cell_type": "markdown",
   "metadata": {
    "id": "tWL3nEAELfHj"
   },
   "source": [
    "`Provide your analysis here`"
   ]
  }
 ],
 "metadata": {
  "colab": {
   "provenance": [],
   "toc_visible": true
  },
  "kernelspec": {
   "display_name": ".venv",
   "language": "python",
   "name": "python3"
  },
  "language_info": {
   "codemirror_mode": {
    "name": "ipython",
    "version": 3
   },
   "file_extension": ".py",
   "mimetype": "text/x-python",
   "name": "python",
   "nbconvert_exporter": "python",
   "pygments_lexer": "ipython3",
   "version": "3.12.8"
  }
 },
 "nbformat": 4,
 "nbformat_minor": 0
}
